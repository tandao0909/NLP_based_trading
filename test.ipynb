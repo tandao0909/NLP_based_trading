{
 "cells": [
  {
   "cell_type": "code",
   "execution_count": 6,
   "metadata": {},
   "outputs": [],
   "source": [
    "import pandas as pd\n",
    "import yfinance as yf\n",
    "df = pd.DataFrame()\n",
    "\n",
    "for ticker in [\"AAPL\", \"MSFT\", \"NVDA\", \"GOOG\", \"AMZN\", \"META\", \"BRK-B\", \"TSM\",\"LLY\", \"TSLA\", \"AVGO\"]:\n",
    "    ticker = yf.Ticker(ticker)\n",
    "    start='2012-05-22'\n",
    "    end='2020-06-03'\n",
    "    df_ticker = ticker.history(start = start, end = end)\n",
    "    df_ticker[\"stock\"] = [ticker.ticker] * df_ticker.shape[0]\n",
    "    df = pd.concat([df, df_ticker])\n",
    "df.to_csv(\"./data/ticker_data.csv\")"
   ]
  }
 ],
 "metadata": {
  "kernelspec": {
   "display_name": "base",
   "language": "python",
   "name": "python3"
  },
  "language_info": {
   "codemirror_mode": {
    "name": "ipython",
    "version": 3
   },
   "file_extension": ".py",
   "mimetype": "text/x-python",
   "name": "python",
   "nbconvert_exporter": "python",
   "pygments_lexer": "ipython3",
   "version": "3.12.4"
  }
 },
 "nbformat": 4,
 "nbformat_minor": 2
}
